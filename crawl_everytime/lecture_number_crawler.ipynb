{
 "cells": [
  {
   "cell_type": "code",
   "execution_count": 1,
   "id": "414bb19e",
   "metadata": {},
   "outputs": [],
   "source": [
    "#과목명과 교수명으로 lecture_number를 크롤링하는 코드\n",
    "from selenium import webdriver\n",
    "from selenium.webdriver.common.by import By\n",
    "from selenium.webdriver.common.keys import Keys\n",
    "from bs4 import BeautifulSoup\n",
    "from selenium.webdriver.common.by import By\n",
    "from selenium.webdriver.support.ui import WebDriverWait\n",
    "from selenium.webdriver.support import expected_conditions as EC\n",
    "import pandas as pd\n",
    "import time\n",
    "import csv\n",
    "\n",
    "temp_df = pd.read_excel(\"../data/preprocessed_univ_excel.xlsx\")\n",
    "professor_name = temp_df.loc[:, ['professor_name']]\n",
    "professor_name = professor_name.drop_duplicates()\n",
    "professor_name = professor_name.reset_index()\n",
    "professor_name = professor_name.loc[:, ['professor_name']]\n",
    "professor_name = professor_name.professor_name.str.split(', ')\n",
    "professor_name = professor_name.apply(lambda x: pd.Series(x))\n",
    "professor_name = professor_name.stack().reset_index(level=1,drop=True).to_frame('professor_name')\n",
    "professor_name = professor_name.drop_duplicates()\n",
    "professor_name = professor_name.reset_index()\n",
    "professor_name = professor_name.loc[:, ['professor_name']]\n",
    "professor_name.to_excel(\"../data/professor_name_list_df.xlsx\")"
   ]
  },
  {
   "cell_type": "code",
   "execution_count": 42,
   "id": "e697b3e1",
   "metadata": {
    "scrolled": true
   },
   "outputs": [
    {
     "name": "stderr",
     "output_type": "stream",
     "text": [
      "C:\\Users\\kimdm\\AppData\\Local\\Temp/ipykernel_25892/2398064781.py:4: DeprecationWarning: executable_path has been deprecated, please pass in a Service object\n",
      "  browser = webdriver.Chrome('C:/chromedriver.exe')\n"
     ]
    }
   ],
   "source": [
    "temp_df = pd.read_excel(\"../data/professor_name_list_df.xlsx\")\n",
    "professors = list(temp_df['professor_name'])\n",
    "\n",
    "browser = webdriver.Chrome('C:/chromedriver.exe')\n",
    "browser.get('https://everytime.kr/lecture')\n",
    "browser.find_element(By.XPATH, '//*[@id=\"container\"]/form/p[1]/input').send_keys('kimdm0317')\n",
    "browser.find_element(By.XPATH, '//*[@id=\"container\"]/form/p[2]/input').send_keys('+kK+z]D!e@1r.=w#:5~V')\n",
    "browser.find_element(By.XPATH, '//*[@id=\"container\"]/form/p[3]/input').click()\n",
    "\n",
    "lectures_df = pd.DataFrame(columns=['lecture_number'])\n",
    "\n",
    "index_num = 0\n",
    "\n",
    "for professor in professors:\n",
    "    browser.get('https://everytime.kr/lecture/search?keyword={}&condition=professor'.format(professor))\n",
    "    try:\n",
    "        WebDriverWait(browser, 1).until(EC.presence_of_element_located((By.CSS_SELECTOR, \"body > div > div > div.lectures > a\")))\n",
    "    except:\n",
    "        pass\n",
    "\n",
    "    html = browser.page_source\n",
    "    soup = BeautifulSoup(html, 'html.parser')\n",
    "    \n",
    "    try:\n",
    "        urls = soup.select('body > div > div > div.lectures > a')\n",
    "        urls = [i['href'][14:] for i in urls]\n",
    "        for k in range(len(urls)):\n",
    "            lectures_df.loc[index_num] = [urls[k]]\n",
    "            index_num += 1\n",
    "    except:\n",
    "        pass\n",
    "lecturess_df.to_excel(\"../data/lectures_df.xlsx\")\n",
    "    \n",
    "    \n",
    "    "
   ]
  },
  {
   "cell_type": "code",
   "execution_count": 44,
   "id": "ea92f336",
   "metadata": {},
   "outputs": [],
   "source": [
    "temp_df = pd.read_excel(\"../data/lectures_df.xlsx\")\n",
    "temp_df = temp_df.loc[:, ['lecture_number']]\n",
    "temp_df = temp_df.drop_duplicates()\n",
    "temp_df = temp_df.reset_index()\n",
    "temp_df = temp_df.loc[:, ['lecture_number']]\n",
    "temp_df.to_excel(\"../data/lectures_df.xlsx\")"
   ]
  },
  {
   "cell_type": "code",
   "execution_count": null,
   "id": "877ff044",
   "metadata": {},
   "outputs": [],
   "source": []
  }
 ],
 "metadata": {
  "kernelspec": {
   "display_name": "Python 3 (ipykernel)",
   "language": "python",
   "name": "python3"
  },
  "language_info": {
   "codemirror_mode": {
    "name": "ipython",
    "version": 3
   },
   "file_extension": ".py",
   "mimetype": "text/x-python",
   "name": "python",
   "nbconvert_exporter": "python",
   "pygments_lexer": "ipython3",
   "version": "3.9.7"
  }
 },
 "nbformat": 4,
 "nbformat_minor": 5
}
