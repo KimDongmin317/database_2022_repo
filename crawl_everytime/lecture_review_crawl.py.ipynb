{
 "cells": [
  {
   "cell_type": "code",
   "execution_count": 1,
   "id": "5ea1194e",
   "metadata": {},
   "outputs": [
    {
     "name": "stderr",
     "output_type": "stream",
     "text": [
      "C:\\Users\\kimdm\\AppData\\Local\\Temp/ipykernel_10956/2964487877.py:10: DeprecationWarning: executable_path has been deprecated, please pass in a Service object\n",
      "  browser = webdriver.Chrome('C:/chromedriver.exe')\n"
     ]
    }
   ],
   "source": [
    "#강의평가와 별점을 크롤링하는 파일\n",
    "from selenium import webdriver\n",
    "from selenium.webdriver.common.by import By\n",
    "from selenium.webdriver.common.keys import Keys\n",
    "from bs4 import BeautifulSoup\n",
    "import pandas as pd\n",
    "import time\n",
    "import csv\n",
    "\n",
    "browser = webdriver.Chrome('C:/chromedriver.exe')\n",
    "\n",
    "temp_df = pd.read_csv(\"../data/everytime_lecture_number.csv\")\n",
    "urls = list(temp_df['lecture_number'])\n",
    "\n",
    "\n",
    "browser.get('https://everytime.kr/lecture')\n",
    "browser.find_element(By.XPATH, '//*[@id=\"container\"]/form/p[1]/input').send_keys('kimdm0317')\n",
    "browser.find_element(By.XPATH, '//*[@id=\"container\"]/form/p[2]/input').send_keys('+kK+z]D!e@1r.=w#:5~V')\n",
    "browser.find_element(By.XPATH, '//*[@id=\"container\"]/form/p[3]/input').click()\n",
    "\n",
    "\n",
    "lecture_review_df = pd.DataFrame(columns=['lecture_number', 'lecture_review', 'star'])\n",
    "\n",
    "index_num = 0\n",
    "for url in urls:\n",
    "    browser.get('https://seoultech.everytime.kr/lecture/view/{}?tab=article'.format(url))\n",
    "    browser.implicitly_wait(10)\n",
    "\n",
    "    i = 0\n",
    "    \n",
    "    try:\n",
    "        while (i < 20):\n",
    "            browser.find_element(By.CSS_SELECTOR, 'button.posvote').send_keys(Keys.END)\n",
    "            time.sleep(0.2)\n",
    "            i += 1\n",
    "\n",
    "\n",
    "        html = browser.page_source\n",
    "        soup = BeautifulSoup(html, 'html.parser')\n",
    "\n",
    "\n",
    "        reviews = soup.select('body > div > div > div.pane > div > div.articles > div > div.text')\n",
    "        reviews = [i.text for i in reviews]\n",
    "        stars = soup.select('body > div > div > div.pane > div > div.articles > div > div.article_header > div.title > div.rate > span > span')\n",
    "        stars = [int(i['style'][7:-2]) for i in stars]\n",
    "\n",
    "        for k in range(len(reviews)):\n",
    "            lecture_review_df.loc[index_num] = [url, reviews[k], stars[k]]\n",
    "            index_num += 1\n",
    "    except:\n",
    "        continue\n",
    "\n",
    "        \n",
    "lecture_review_df\n",
    "lecture_review_df.to_excel(\"../data/lecture_review_df.xlsx\")\n",
    "#강의정보 없는 강의에 대하여\n",
    "#강의정보 적은 강의에 대하여"
   ]
  },
  {
   "cell_type": "code",
   "execution_count": null,
   "id": "97a8ca3f",
   "metadata": {},
   "outputs": [],
   "source": []
  }
 ],
 "metadata": {
  "kernelspec": {
   "display_name": "Python 3 (ipykernel)",
   "language": "python",
   "name": "python3"
  },
  "language_info": {
   "codemirror_mode": {
    "name": "ipython",
    "version": 3
   },
   "file_extension": ".py",
   "mimetype": "text/x-python",
   "name": "python",
   "nbconvert_exporter": "python",
   "pygments_lexer": "ipython3",
   "version": "3.9.7"
  }
 },
 "nbformat": 4,
 "nbformat_minor": 5
}
