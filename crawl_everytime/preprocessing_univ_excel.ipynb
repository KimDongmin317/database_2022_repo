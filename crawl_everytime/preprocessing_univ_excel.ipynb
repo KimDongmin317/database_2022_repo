{
 "cells": [
  {
   "cell_type": "code",
   "execution_count": 1,
   "id": "c4cc87de",
   "metadata": {},
   "outputs": [],
   "source": [
    "import pandas as pd"
   ]
  },
  {
   "cell_type": "code",
   "execution_count": 2,
   "id": "79852e15",
   "metadata": {},
   "outputs": [
    {
     "name": "stderr",
     "output_type": "stream",
     "text": [
      "C:\\Users\\kimdm\\anaconda3\\lib\\site-packages\\openpyxl\\styles\\stylesheet.py:226: UserWarning: Workbook contains no default style, apply openpyxl's default\n",
      "  warn(\"Workbook contains no default style, apply openpyxl's default\")\n",
      "C:\\Users\\kimdm\\anaconda3\\lib\\site-packages\\pandas\\util\\_decorators.py:211: FutureWarning: the 'encoding' keyword is deprecated and will be removed in a future version. Please take steps to stop the use of 'encoding'\n",
      "  return func(*args, **kwargs)\n"
     ]
    }
   ],
   "source": [
    "df = pd.read_excel(\"../data/시간표 목록_20221030184755720179.xlsx\", index_col=0)\n",
    "df['교과목코드'] = df['교과목코드'].apply(str)\n",
    "df['강좌번호'] = df['강좌번호'].apply(str)\n",
    "df['class_code_num'] = (df['교과목코드']+df['강좌번호']).apply(int)\n",
    "df = df[['class_code_num', \"교과목명\", \"교수명\"]]\n",
    "df.rename(columns={'교과목명':'class_name', '교수명':'professor_name'}, inplace=True)\n",
    "\n",
    "df.reset_index(drop=True, inplace=True)\n",
    "df.to_excel(\"../data/preprocessed_univ_excel.xlsx\")"
   ]
  }
 ],
 "metadata": {
  "kernelspec": {
   "display_name": "Python 3 (ipykernel)",
   "language": "python",
   "name": "python3"
  },
  "language_info": {
   "codemirror_mode": {
    "name": "ipython",
    "version": 3
   },
   "file_extension": ".py",
   "mimetype": "text/x-python",
   "name": "python",
   "nbconvert_exporter": "python",
   "pygments_lexer": "ipython3",
   "version": "3.9.7"
  }
 },
 "nbformat": 4,
 "nbformat_minor": 5
}
